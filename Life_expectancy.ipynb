{
 "cells": [
  {
   "cell_type": "markdown",
   "metadata": {},
   "source": [
    "# Machine Learning Engineer Nanodegree\n",
    "## Supervised Learning\n",
    "## Project: Life Expectancy of a Country by WHO"
   ]
  },
  {
   "cell_type": "markdown",
   "metadata": {},
   "source": [
    "## Getting Started\n",
    "In this project, we will evaluate the performance and predictive power of a model that has been trained and tested on data collected from life expectancy of a country. A model trained on this data that is seen as a *good fit* could then be used to make certain predictions about life expectancy.\n",
    "\n",
    "The dataset for this project originates from the [Kaggle Rpository](https://www.kaggle.com/kumarajarshi/life-expectancy-who). The Life expectancy data was collected was from 2000 to 2016 and each of the 2938 entries represent aggregated data about 22 features for life expectancy from various countries collected by WHO(World Health Organisation).\n",
    "\n"
   ]
  },
  {
   "cell_type": "markdown",
   "metadata": {},
   "source": [
    "## Exploring the Data\n",
    "We have to load all the necessary Python libraries and also we have to get the data from csv file to a variable, probably called 'data'. Note that the 4th column from this dataset, `'Life_expectancy'`, will be the target label (Life expectancy of a country). All other columns are features about each country for each year in the dataset.\n",
    "\n",
    "Run the code cell below to load the Life expectancy dataset, along with a few of the necessary Python libraries required for this project. We will know the dataset loaded successfully if the size of the dataset is reported and display the first few entries for examination using the .head() function.."
   ]
  },
  {
   "cell_type": "code",
   "execution_count": 188,
   "metadata": {},
   "outputs": [
    {
     "data": {
      "text/html": [
       "<div>\n",
       "<style scoped>\n",
       "    .dataframe tbody tr th:only-of-type {\n",
       "        vertical-align: middle;\n",
       "    }\n",
       "\n",
       "    .dataframe tbody tr th {\n",
       "        vertical-align: top;\n",
       "    }\n",
       "\n",
       "    .dataframe thead th {\n",
       "        text-align: right;\n",
       "    }\n",
       "</style>\n",
       "<table border=\"1\" class=\"dataframe\">\n",
       "  <thead>\n",
       "    <tr style=\"text-align: right;\">\n",
       "      <th></th>\n",
       "      <th>Country</th>\n",
       "      <th>Year</th>\n",
       "      <th>Status</th>\n",
       "      <th>Life_expectancy</th>\n",
       "      <th>Adult Mortality</th>\n",
       "      <th>infant_deaths</th>\n",
       "      <th>Alcohol</th>\n",
       "      <th>percentage_expenditure</th>\n",
       "      <th>Hepatitis B</th>\n",
       "      <th>Measles</th>\n",
       "      <th>...</th>\n",
       "      <th>Polio</th>\n",
       "      <th>Total_expenditure</th>\n",
       "      <th>Diphtheria</th>\n",
       "      <th>HIV/AIDS</th>\n",
       "      <th>GDP</th>\n",
       "      <th>Population</th>\n",
       "      <th>thinness_1-19_years</th>\n",
       "      <th>thinness_5-9_years</th>\n",
       "      <th>Income_composition_of_resources</th>\n",
       "      <th>Schooling</th>\n",
       "    </tr>\n",
       "  </thead>\n",
       "  <tbody>\n",
       "    <tr>\n",
       "      <th>0</th>\n",
       "      <td>Afghanistan</td>\n",
       "      <td>2015</td>\n",
       "      <td>Developing</td>\n",
       "      <td>65.0</td>\n",
       "      <td>263.0</td>\n",
       "      <td>62</td>\n",
       "      <td>0.01</td>\n",
       "      <td>71.279624</td>\n",
       "      <td>65.0</td>\n",
       "      <td>1154</td>\n",
       "      <td>...</td>\n",
       "      <td>6.0</td>\n",
       "      <td>8.16</td>\n",
       "      <td>65.0</td>\n",
       "      <td>0.1</td>\n",
       "      <td>584.259210</td>\n",
       "      <td>33736494.0</td>\n",
       "      <td>17.2</td>\n",
       "      <td>17.3</td>\n",
       "      <td>0.479</td>\n",
       "      <td>10.1</td>\n",
       "    </tr>\n",
       "    <tr>\n",
       "      <th>1</th>\n",
       "      <td>Afghanistan</td>\n",
       "      <td>2014</td>\n",
       "      <td>Developing</td>\n",
       "      <td>59.9</td>\n",
       "      <td>271.0</td>\n",
       "      <td>64</td>\n",
       "      <td>0.01</td>\n",
       "      <td>73.523582</td>\n",
       "      <td>62.0</td>\n",
       "      <td>492</td>\n",
       "      <td>...</td>\n",
       "      <td>58.0</td>\n",
       "      <td>8.18</td>\n",
       "      <td>62.0</td>\n",
       "      <td>0.1</td>\n",
       "      <td>612.696514</td>\n",
       "      <td>327582.0</td>\n",
       "      <td>17.5</td>\n",
       "      <td>17.5</td>\n",
       "      <td>0.476</td>\n",
       "      <td>10.0</td>\n",
       "    </tr>\n",
       "    <tr>\n",
       "      <th>2</th>\n",
       "      <td>Afghanistan</td>\n",
       "      <td>2013</td>\n",
       "      <td>Developing</td>\n",
       "      <td>59.9</td>\n",
       "      <td>268.0</td>\n",
       "      <td>66</td>\n",
       "      <td>0.01</td>\n",
       "      <td>73.219243</td>\n",
       "      <td>64.0</td>\n",
       "      <td>430</td>\n",
       "      <td>...</td>\n",
       "      <td>62.0</td>\n",
       "      <td>8.13</td>\n",
       "      <td>64.0</td>\n",
       "      <td>0.1</td>\n",
       "      <td>631.744976</td>\n",
       "      <td>31731688.0</td>\n",
       "      <td>17.7</td>\n",
       "      <td>17.7</td>\n",
       "      <td>0.470</td>\n",
       "      <td>9.9</td>\n",
       "    </tr>\n",
       "    <tr>\n",
       "      <th>3</th>\n",
       "      <td>Afghanistan</td>\n",
       "      <td>2012</td>\n",
       "      <td>Developing</td>\n",
       "      <td>59.5</td>\n",
       "      <td>272.0</td>\n",
       "      <td>69</td>\n",
       "      <td>0.01</td>\n",
       "      <td>78.184215</td>\n",
       "      <td>67.0</td>\n",
       "      <td>2787</td>\n",
       "      <td>...</td>\n",
       "      <td>67.0</td>\n",
       "      <td>8.52</td>\n",
       "      <td>67.0</td>\n",
       "      <td>0.1</td>\n",
       "      <td>669.959000</td>\n",
       "      <td>3696958.0</td>\n",
       "      <td>17.9</td>\n",
       "      <td>18.0</td>\n",
       "      <td>0.463</td>\n",
       "      <td>9.8</td>\n",
       "    </tr>\n",
       "    <tr>\n",
       "      <th>4</th>\n",
       "      <td>Afghanistan</td>\n",
       "      <td>2011</td>\n",
       "      <td>Developing</td>\n",
       "      <td>59.2</td>\n",
       "      <td>275.0</td>\n",
       "      <td>71</td>\n",
       "      <td>0.01</td>\n",
       "      <td>7.097109</td>\n",
       "      <td>68.0</td>\n",
       "      <td>3013</td>\n",
       "      <td>...</td>\n",
       "      <td>68.0</td>\n",
       "      <td>7.87</td>\n",
       "      <td>68.0</td>\n",
       "      <td>0.1</td>\n",
       "      <td>63.537231</td>\n",
       "      <td>2978599.0</td>\n",
       "      <td>18.2</td>\n",
       "      <td>18.2</td>\n",
       "      <td>0.454</td>\n",
       "      <td>9.5</td>\n",
       "    </tr>\n",
       "  </tbody>\n",
       "</table>\n",
       "<p>5 rows × 22 columns</p>\n",
       "</div>"
      ],
      "text/plain": [
       "       Country  Year      Status  Life_expectancy  Adult Mortality  \\\n",
       "0  Afghanistan  2015  Developing             65.0            263.0   \n",
       "1  Afghanistan  2014  Developing             59.9            271.0   \n",
       "2  Afghanistan  2013  Developing             59.9            268.0   \n",
       "3  Afghanistan  2012  Developing             59.5            272.0   \n",
       "4  Afghanistan  2011  Developing             59.2            275.0   \n",
       "\n",
       "   infant_deaths  Alcohol  percentage_expenditure  Hepatitis B  Measles  \\\n",
       "0             62     0.01               71.279624         65.0     1154   \n",
       "1             64     0.01               73.523582         62.0      492   \n",
       "2             66     0.01               73.219243         64.0      430   \n",
       "3             69     0.01               78.184215         67.0     2787   \n",
       "4             71     0.01                7.097109         68.0     3013   \n",
       "\n",
       "     ...      Polio  Total_expenditure  Diphtheria  HIV/AIDS         GDP  \\\n",
       "0    ...        6.0               8.16        65.0       0.1  584.259210   \n",
       "1    ...       58.0               8.18        62.0       0.1  612.696514   \n",
       "2    ...       62.0               8.13        64.0       0.1  631.744976   \n",
       "3    ...       67.0               8.52        67.0       0.1  669.959000   \n",
       "4    ...       68.0               7.87        68.0       0.1   63.537231   \n",
       "\n",
       "   Population  thinness_1-19_years  thinness_5-9_years  \\\n",
       "0  33736494.0                 17.2                17.3   \n",
       "1    327582.0                 17.5                17.5   \n",
       "2  31731688.0                 17.7                17.7   \n",
       "3   3696958.0                 17.9                18.0   \n",
       "4   2978599.0                 18.2                18.2   \n",
       "\n",
       "   Income_composition_of_resources  Schooling  \n",
       "0                            0.479       10.1  \n",
       "1                            0.476       10.0  \n",
       "2                            0.470        9.9  \n",
       "3                            0.463        9.8  \n",
       "4                            0.454        9.5  \n",
       "\n",
       "[5 rows x 22 columns]"
      ]
     },
     "metadata": {},
     "output_type": "display_data"
    },
    {
     "name": "stdout",
     "output_type": "stream",
     "text": [
      "Life Expectancy dataset has 2938 data points with 22 variables each.\n"
     ]
    }
   ],
   "source": [
    "# Import libraries necessary for this project\n",
    "import numpy as np\n",
    "import pandas as pd\n",
    "from time import time\n",
    "from IPython.display import display # Allows the use of display() for DataFrames\n",
    "\n",
    "# Import supplementary visualization code visuals.py\n",
    "# import visuals as vs\n",
    "\n",
    "# Pretty display for notebooks\n",
    "%matplotlib inline\n",
    "\n",
    "# Load the Census dataset\n",
    "data = pd.read_csv(\"LifeExpectancyData.csv\")\n",
    "\n",
    "# Success - Display the first record\n",
    "display(data.head(n=5))\n",
    "# Success\n",
    "print(\"Life Expectancy dataset has {} data points with {} variables each.\".format(*data.shape))"
   ]
  },
  {
   "cell_type": "markdown",
   "metadata": {},
   "source": [
    "## Exploring Feature Set\n",
    "\n",
    "* **Country**: Name of a country. \n",
    "* **Year**: Year\n",
    "* **Status**: Developed or Developing \n",
    "* **Adult Mortality**: Number of deaths in adult category \n",
    "* **Infant-deaths**: Number of infant deaths\n",
    "* **Alcohol**: Alcohol consumption rate\n",
    "* **Percentage expenditure**: Expenditure percentage\n",
    "* **Hepatitis B and measles**: Number of deaths due to hepatitis and measles.\n",
    "* **BMI**: Average Body mass index\n",
    "* **Under five deaths**: Number of deaths under 5 years of age \n",
    "* **Polio**: Polio effected number\n",
    "* **Total_expenditure**: Total expenditure\n",
    "* **Thinness 1-19 years:** Thinness of people aged 1- 19 years.\n",
    "* **Thinness 5-9 years:** Thinness of people aged 5- 9 years.\n",
    "* **GDP** GDP of a country\n",
    "* **Population**: Population of a country"
   ]
  },
  {
   "cell_type": "code",
   "execution_count": 189,
   "metadata": {},
   "outputs": [
    {
     "name": "stdout",
     "output_type": "stream",
     "text": [
      "Life Expectancy dataset has 2938 data points with 20 variables each.\n"
     ]
    },
    {
     "data": {
      "text/html": [
       "<div>\n",
       "<style scoped>\n",
       "    .dataframe tbody tr th:only-of-type {\n",
       "        vertical-align: middle;\n",
       "    }\n",
       "\n",
       "    .dataframe tbody tr th {\n",
       "        vertical-align: top;\n",
       "    }\n",
       "\n",
       "    .dataframe thead th {\n",
       "        text-align: right;\n",
       "    }\n",
       "</style>\n",
       "<table border=\"1\" class=\"dataframe\">\n",
       "  <thead>\n",
       "    <tr style=\"text-align: right;\">\n",
       "      <th></th>\n",
       "      <th>Country</th>\n",
       "      <th>Year</th>\n",
       "      <th>Status</th>\n",
       "      <th>Adult Mortality</th>\n",
       "      <th>infant_deaths</th>\n",
       "      <th>Alcohol</th>\n",
       "      <th>percentage_expenditure</th>\n",
       "      <th>Hepatitis B</th>\n",
       "      <th>Measles</th>\n",
       "      <th>BMI</th>\n",
       "      <th>under_five_deaths</th>\n",
       "      <th>Polio</th>\n",
       "      <th>Total_expenditure</th>\n",
       "      <th>Diphtheria</th>\n",
       "      <th>HIV/AIDS</th>\n",
       "      <th>GDP</th>\n",
       "      <th>Population</th>\n",
       "      <th>thinness_1-19_years</th>\n",
       "      <th>thinness_5-9_years</th>\n",
       "      <th>Income_composition_of_resources</th>\n",
       "    </tr>\n",
       "  </thead>\n",
       "  <tbody>\n",
       "    <tr>\n",
       "      <th>0</th>\n",
       "      <td>Afghanistan</td>\n",
       "      <td>2015</td>\n",
       "      <td>Developing</td>\n",
       "      <td>263.0</td>\n",
       "      <td>62</td>\n",
       "      <td>0.01</td>\n",
       "      <td>71.279624</td>\n",
       "      <td>65.0</td>\n",
       "      <td>1154</td>\n",
       "      <td>19.1</td>\n",
       "      <td>83</td>\n",
       "      <td>6.0</td>\n",
       "      <td>8.16</td>\n",
       "      <td>65.0</td>\n",
       "      <td>0.1</td>\n",
       "      <td>584.259210</td>\n",
       "      <td>33736494.0</td>\n",
       "      <td>17.2</td>\n",
       "      <td>17.3</td>\n",
       "      <td>0.479</td>\n",
       "    </tr>\n",
       "    <tr>\n",
       "      <th>1</th>\n",
       "      <td>Afghanistan</td>\n",
       "      <td>2014</td>\n",
       "      <td>Developing</td>\n",
       "      <td>271.0</td>\n",
       "      <td>64</td>\n",
       "      <td>0.01</td>\n",
       "      <td>73.523582</td>\n",
       "      <td>62.0</td>\n",
       "      <td>492</td>\n",
       "      <td>18.6</td>\n",
       "      <td>86</td>\n",
       "      <td>58.0</td>\n",
       "      <td>8.18</td>\n",
       "      <td>62.0</td>\n",
       "      <td>0.1</td>\n",
       "      <td>612.696514</td>\n",
       "      <td>327582.0</td>\n",
       "      <td>17.5</td>\n",
       "      <td>17.5</td>\n",
       "      <td>0.476</td>\n",
       "    </tr>\n",
       "    <tr>\n",
       "      <th>2</th>\n",
       "      <td>Afghanistan</td>\n",
       "      <td>2013</td>\n",
       "      <td>Developing</td>\n",
       "      <td>268.0</td>\n",
       "      <td>66</td>\n",
       "      <td>0.01</td>\n",
       "      <td>73.219243</td>\n",
       "      <td>64.0</td>\n",
       "      <td>430</td>\n",
       "      <td>18.1</td>\n",
       "      <td>89</td>\n",
       "      <td>62.0</td>\n",
       "      <td>8.13</td>\n",
       "      <td>64.0</td>\n",
       "      <td>0.1</td>\n",
       "      <td>631.744976</td>\n",
       "      <td>31731688.0</td>\n",
       "      <td>17.7</td>\n",
       "      <td>17.7</td>\n",
       "      <td>0.470</td>\n",
       "    </tr>\n",
       "    <tr>\n",
       "      <th>3</th>\n",
       "      <td>Afghanistan</td>\n",
       "      <td>2012</td>\n",
       "      <td>Developing</td>\n",
       "      <td>272.0</td>\n",
       "      <td>69</td>\n",
       "      <td>0.01</td>\n",
       "      <td>78.184215</td>\n",
       "      <td>67.0</td>\n",
       "      <td>2787</td>\n",
       "      <td>17.6</td>\n",
       "      <td>93</td>\n",
       "      <td>67.0</td>\n",
       "      <td>8.52</td>\n",
       "      <td>67.0</td>\n",
       "      <td>0.1</td>\n",
       "      <td>669.959000</td>\n",
       "      <td>3696958.0</td>\n",
       "      <td>17.9</td>\n",
       "      <td>18.0</td>\n",
       "      <td>0.463</td>\n",
       "    </tr>\n",
       "    <tr>\n",
       "      <th>4</th>\n",
       "      <td>Afghanistan</td>\n",
       "      <td>2011</td>\n",
       "      <td>Developing</td>\n",
       "      <td>275.0</td>\n",
       "      <td>71</td>\n",
       "      <td>0.01</td>\n",
       "      <td>7.097109</td>\n",
       "      <td>68.0</td>\n",
       "      <td>3013</td>\n",
       "      <td>17.2</td>\n",
       "      <td>97</td>\n",
       "      <td>68.0</td>\n",
       "      <td>7.87</td>\n",
       "      <td>68.0</td>\n",
       "      <td>0.1</td>\n",
       "      <td>63.537231</td>\n",
       "      <td>2978599.0</td>\n",
       "      <td>18.2</td>\n",
       "      <td>18.2</td>\n",
       "      <td>0.454</td>\n",
       "    </tr>\n",
       "  </tbody>\n",
       "</table>\n",
       "</div>"
      ],
      "text/plain": [
       "       Country  Year      Status  Adult Mortality  infant_deaths  Alcohol  \\\n",
       "0  Afghanistan  2015  Developing            263.0             62     0.01   \n",
       "1  Afghanistan  2014  Developing            271.0             64     0.01   \n",
       "2  Afghanistan  2013  Developing            268.0             66     0.01   \n",
       "3  Afghanistan  2012  Developing            272.0             69     0.01   \n",
       "4  Afghanistan  2011  Developing            275.0             71     0.01   \n",
       "\n",
       "   percentage_expenditure  Hepatitis B  Measles   BMI  under_five_deaths   \\\n",
       "0               71.279624         65.0     1154  19.1                  83   \n",
       "1               73.523582         62.0      492  18.6                  86   \n",
       "2               73.219243         64.0      430  18.1                  89   \n",
       "3               78.184215         67.0     2787  17.6                  93   \n",
       "4                7.097109         68.0     3013  17.2                  97   \n",
       "\n",
       "   Polio  Total_expenditure  Diphtheria  HIV/AIDS         GDP  Population  \\\n",
       "0    6.0               8.16        65.0       0.1  584.259210  33736494.0   \n",
       "1   58.0               8.18        62.0       0.1  612.696514    327582.0   \n",
       "2   62.0               8.13        64.0       0.1  631.744976  31731688.0   \n",
       "3   67.0               8.52        67.0       0.1  669.959000   3696958.0   \n",
       "4   68.0               7.87        68.0       0.1   63.537231   2978599.0   \n",
       "\n",
       "   thinness_1-19_years  thinness_5-9_years  Income_composition_of_resources  \n",
       "0                 17.2                17.3                            0.479  \n",
       "1                 17.5                17.5                            0.476  \n",
       "2                 17.7                17.7                            0.470  \n",
       "3                 17.9                18.0                            0.463  \n",
       "4                 18.2                18.2                            0.454  "
      ]
     },
     "execution_count": 189,
     "metadata": {},
     "output_type": "execute_result"
    }
   ],
   "source": [
    "#loading target variable data into life_exp variable\n",
    "#dropping variables like hiv/aids, thinness 1-19 years etc to reduces feature variables. All other important features are there to help our prediction\n",
    "life_exp = data['Life_expectancy']\n",
    "features = data.drop(['Life_expectancy','Schooling'], axis = 1)\n",
    "\n",
    "print(\"Life Expectancy dataset has {} data points with {} variables each.\".format(*features.shape))\n",
    "#show first 5 rows of data\n",
    "\n",
    "features.head()\n"
   ]
  },
  {
   "cell_type": "markdown",
   "metadata": {},
   "source": [
    "----\n",
    "## Preparing the Data\n",
    "Before we use the data as input for our machine learning algorithms(models), it has to be cleaned, formatted, and restructured — this process is known as **preprocessing**. In our dataset we have some null (NaN) values are there which are called missing values. So I will clean them in later steps. And, there are some qualities about certain features that must be adjusted. This preprocessing can help us to get the better outcome and predictive power of nearly all learning algorithms.\n",
    "\n",
    "- By running the cell below I can know how many missing values there in our data for each feature."
   ]
  },
  {
   "cell_type": "code",
   "execution_count": 190,
   "metadata": {},
   "outputs": [
    {
     "name": "stdout",
     "output_type": "stream",
     "text": [
      "NaN values in Target variable:  10\n"
     ]
    },
    {
     "data": {
      "text/plain": [
       "Country                              0\n",
       "Year                                 0\n",
       "Status                               0\n",
       "Adult Mortality                     10\n",
       "infant_deaths                        0\n",
       "Alcohol                            194\n",
       "percentage_expenditure               0\n",
       "Hepatitis B                        553\n",
       "Measles                              0\n",
       "BMI                                 34\n",
       "under_five_deaths                    0\n",
       "Polio                               19\n",
       "Total_expenditure                  226\n",
       "Diphtheria                          19\n",
       "HIV/AIDS                             0\n",
       "GDP                                448\n",
       "Population                         652\n",
       "thinness_1-19_years                 34\n",
       "thinness_5-9_years                  34\n",
       "Income_composition_of_resources    167\n",
       "dtype: int64"
      ]
     },
     "execution_count": 190,
     "metadata": {},
     "output_type": "execute_result"
    }
   ],
   "source": [
    "#Preprocessing data... \n",
    "print(\"NaN values in Target variable: \",life_exp.isnull().sum())\n",
    "features.isnull().sum()"
   ]
  },
  {
   "cell_type": "markdown",
   "metadata": {},
   "source": [
    "# Preprocessing:\n",
    "- Here we can see that there are total of 10 values missing in Adult mortality feature , 194 in Alcohol feature , 553 in Hepatitis B, 34 in BMI and other features having large number of missing values such as GDP and Population are having 448 and 652 missing values.\n",
    "- So we have to preprocess this data to go further. So, below is the code which replaces the missing values from all the features with their respective mean values. In Status 0 means 'Developing' and 1 means 'Developed' .\n",
    "\n",
    "\n",
    "- By running the below cell the above technique will be applied."
   ]
  },
  {
   "cell_type": "code",
   "execution_count": 191,
   "metadata": {},
   "outputs": [],
   "source": [
    "# from sklearn.preprocessing import Imputer as imp\n",
    "# imp = Imputer(missing_values='nan', strategy='mean', axis=0)\n",
    "# imp = imp.fit(life_exp)\n",
    "life_exp=life_exp.fillna(life_exp.mean())\n",
    "features['Status']=features['Status'].replace('Developing',0)\n",
    "features['Status']=features['Status'].replace('Developed',1)\n",
    "features['Adult Mortality']=features['Adult Mortality'].fillna(features['Adult Mortality'].mean())\n",
    "features['Alcohol']=features['Alcohol'].fillna(features['Alcohol'].mean())\n",
    "features['Hepatitis B']=features['Hepatitis B'].fillna(features['Hepatitis B'].mean())\n",
    "features['BMI']=features['BMI'].fillna(features['BMI'].mean())\n",
    "features['Polio']=features['Polio'].fillna(features['Polio'].mean())\n",
    "features['Total_expenditure']=features['Total_expenditure'].fillna(features['Total_expenditure'].mean())\n",
    "features['GDP']=features['GDP'].fillna(features['GDP'].mean())\n",
    "features['Population']=features['Population'].fillna(features['Population'].mean())\n",
    "features['Diphtheria']=features['Diphtheria'].fillna(features['Diphtheria'].mean())\n",
    "features['thinness_1-19_years']=features['thinness_1-19_years'].fillna(features['thinness_1-19_years'].mean())\n",
    "features['thinness_5-9_years']=features['thinness_5-9_years'].fillna(features['thinness_5-9_years'].mean())\n",
    "features['Income_composition_of_resources']=features['Income_composition_of_resources'].fillna(features['Income_composition_of_resources'].mean())"
   ]
  },
  {
   "cell_type": "code",
   "execution_count": 192,
   "metadata": {},
   "outputs": [
    {
     "data": {
      "text/plain": [
       "Country                            0\n",
       "Year                               0\n",
       "Status                             0\n",
       "Adult Mortality                    0\n",
       "infant_deaths                      0\n",
       "Alcohol                            0\n",
       "percentage_expenditure             0\n",
       "Hepatitis B                        0\n",
       "Measles                            0\n",
       "BMI                                0\n",
       "under_five_deaths                  0\n",
       "Polio                              0\n",
       "Total_expenditure                  0\n",
       "Diphtheria                         0\n",
       "HIV/AIDS                           0\n",
       "GDP                                0\n",
       "Population                         0\n",
       "thinness_1-19_years                0\n",
       "thinness_5-9_years                 0\n",
       "Income_composition_of_resources    0\n",
       "dtype: int64"
      ]
     },
     "execution_count": 192,
     "metadata": {},
     "output_type": "execute_result"
    }
   ],
   "source": [
    "features.isnull().sum()"
   ]
  },
  {
   "cell_type": "markdown",
   "metadata": {},
   "source": [
    "## EXPLORATORY VISUALIZATION\n",
    "Exploratory Visualization can be defined as an approach for analyzing data sets to summarize their important characteristics, often by the application of visual methods.\n",
    "\n",
    "The Primary theme of Exploratory Visualization is for observing what the data can give us an intuition far beyond the conventional modeling or hypothesis testing tasks.\n",
    "\n",
    "The Following session of Data Visualization will provide the intuition of how each feature is 'Correlated' with the target varaible 'Life_expectation'"
   ]
  },
  {
   "cell_type": "markdown",
   "metadata": {},
   "source": [
    "**Correlation of 'BMI' with respect to 'Life_expectancy'**"
   ]
  },
  {
   "cell_type": "code",
   "execution_count": 193,
   "metadata": {},
   "outputs": [
    {
     "data": {
      "image/png": "[encoded data removed]",
      "text/plain": [
       "<Figure size 432x288 with 1 Axes>"
      ]
     },
     "metadata": {},
     "output_type": "display_data"
    }
   ],
   "source": [
    "# \n",
    "import matplotlib.pyplot as plt\n",
    "plt.scatter(features['BMI'],life_exp)\n",
    "plt.ylabel('Life expectancy')\n",
    "plt.xlabel('BMI')\n",
    "plt.show()"
   ]
  },
  {
   "cell_type": "markdown",
   "metadata": {},
   "source": [
    "**Observation:** Here the plot shows that the BMI is correlated with Life expectancy. My intuition is that BMI between 20 and 60 having more life expectancy shown from the graphs."
   ]
  },
  {
   "cell_type": "markdown",
   "metadata": {},
   "source": [
    "**Correlation of 'Adult Mortality' with respect to 'Life_expectancy'**"
   ]
  },
  {
   "cell_type": "code",
   "execution_count": 194,
   "metadata": {},
   "outputs": [
    {
     "data": {
      "image/png": "[encoded data removed]",
      "text/plain": [
       "<Figure size 432x288 with 1 Axes>"
      ]
     },
     "metadata": {},
     "output_type": "display_data"
    }
   ],
   "source": [
    "# \n",
    "import matplotlib.pyplot as plt\n",
    "plt.scatter(features['Adult Mortality'],life_exp)\n",
    "plt.ylabel('Life expectancy')\n",
    "plt.xlabel('Adult Mortality')\n",
    "plt.show()"
   ]
  },
  {
   "cell_type": "markdown",
   "metadata": {},
   "source": [
    "**Obseravtion:** Here 'Adult mortality' has strong correlation with respect to 'Life_expectancy'. Life expectancy is constantly decreasing with in increase in number of deaths or adult mortality rate."
   ]
  },
  {
   "cell_type": "markdown",
   "metadata": {},
   "source": [
    "**Correlation of 'Measles' with respect to 'Life_expectancy'**"
   ]
  },
  {
   "cell_type": "code",
   "execution_count": 195,
   "metadata": {},
   "outputs": [
    {
     "data": {
      "image/png": "[encoded data removed]",
      "text/plain": [
       "<Figure size 432x288 with 1 Axes>"
      ]
     },
     "metadata": {},
     "output_type": "display_data"
    }
   ],
   "source": [
    "# \n",
    "import matplotlib.pyplot as plt\n",
    "plt.scatter(features['Measles'],life_exp)\n",
    "plt.ylabel('Life expectancy')\n",
    "plt.xlabel('Measles')\n",
    "plt.show()"
   ]
  },
  {
   "cell_type": "markdown",
   "metadata": {},
   "source": [
    "**Observation:** The above plotting looks like it's been skewed. Large number of datapoints lies at 0. And some of the datapoints lies at mid 0-50000. Intuition is that outliers caused this skewness, because some countries have very less deaths caused by measles and some have very large.  "
   ]
  },
  {
   "cell_type": "markdown",
   "metadata": {},
   "source": [
    "**Correlation of 'Population' with respect to 'Life_expectancy'**"
   ]
  },
  {
   "cell_type": "code",
   "execution_count": 196,
   "metadata": {},
   "outputs": [
    {
     "data": {
      "image/png": "[encoded data removed]",
      "text/plain": [
       "<Figure size 432x288 with 1 Axes>"
      ]
     },
     "metadata": {},
     "output_type": "display_data"
    }
   ],
   "source": [
    "# \n",
    "import matplotlib.pyplot as plt\n",
    "plt.scatter(features['Population'],life_exp)\n",
    "plt.ylabel('Life expectancy')\n",
    "plt.xlabel('Population')\n",
    "plt.show()"
   ]
  },
  {
   "cell_type": "markdown",
   "metadata": {},
   "source": [
    "**Observation:** Since all countries have population less in number, but some countries like India , Japan, China and Russia have large population. These are very populated countries, which results in cause of outliers. \n",
    "From that ouliers, what my intuition is that , country having large population tend to to have less life expectancy as compared to the other countries. Most of the datapoints lies in between ).0 and 0.2 1e9."
   ]
  },
  {
   "cell_type": "markdown",
   "metadata": {},
   "source": [
    "**Correlation of 'infant_deaths' with respect to 'Life_expectancy'**"
   ]
  },
  {
   "cell_type": "code",
   "execution_count": 197,
   "metadata": {},
   "outputs": [
    {
     "data": {
      "image/png": "[encoded data removed]",
      "text/plain": [
       "<Figure size 432x288 with 1 Axes>"
      ]
     },
     "metadata": {},
     "output_type": "display_data"
    }
   ],
   "source": [
    "import matplotlib.pyplot as plt\n",
    "plt.scatter(features['infant_deaths'],life_exp)\n",
    "plt.ylabel('Life expectancy')\n",
    "plt.xlabel('Infant Deaths')\n",
    "plt.show()"
   ]
  },
  {
   "cell_type": "markdown",
   "metadata": {},
   "source": [
    "**Observation:** Here the plot shows how the infant deaths effect life_expectancy of a country. As the number of deaths are increasing, the life_expectancy is also canstantly decreased for some data points. My intuition is that it causes life expectancy in reducing way as more number of infant deaths are recorded."
   ]
  },
  {
   "cell_type": "markdown",
   "metadata": {},
   "source": [
    "**Correlation of 'Polio' with respect to 'life expectancy'**"
   ]
  },
  {
   "cell_type": "code",
   "execution_count": 198,
   "metadata": {},
   "outputs": [
    {
     "data": {
      "image/png": "[encoded data removed]",
      "text/plain": [
       "<Figure size 432x288 with 1 Axes>"
      ]
     },
     "metadata": {},
     "output_type": "display_data"
    }
   ],
   "source": [
    "#correlation of polio with life expectancy\n",
    "plt.scatter(features['Polio'],life_exp)\n",
    "plt.ylabel('Life expectancy')\n",
    "plt.xlabel('Polio')\n",
    "plt.show()"
   ]
  },
  {
   "cell_type": "markdown",
   "metadata": {},
   "source": [
    "**Observation:** Here the plot shows the correlation of \"Polio\" with respect to 'Life_expectancy. More number of data points are lie at near to the edge of X-axis. "
   ]
  },
  {
   "cell_type": "markdown",
   "metadata": {},
   "source": [
    "### Normalizing Numerical Features\n",
    "In addition to performing transformations on features that are highly skewed, it is often good practice to perform some type of scaling on numerical features. Applying a scaling to the data does not change the shape of each feature's distribution (such as `'Population'` , `'Measles'`, `'HIV/AIDS'` above); however, normalization ensures that each feature is treated equally when applying supervised learners. Note that once scaling is applied, observing the data in its raw form will no longer have the same original meaning, as exampled below.\n",
    "\n",
    "Run the code cell below to normalize each numerical feature. We will use [`sklearn.preprocessing.MinMaxScaler`](http://scikit-learn.org/stable/modules/generated/sklearn.preprocessing.MinMaxScaler.html) for this."
   ]
  },
  {
   "cell_type": "code",
   "execution_count": 199,
   "metadata": {},
   "outputs": [
    {
     "data": {
      "text/html": [
       "<div>\n",
       "<style scoped>\n",
       "    .dataframe tbody tr th:only-of-type {\n",
       "        vertical-align: middle;\n",
       "    }\n",
       "\n",
       "    .dataframe tbody tr th {\n",
       "        vertical-align: top;\n",
       "    }\n",
       "\n",
       "    .dataframe thead th {\n",
       "        text-align: right;\n",
       "    }\n",
       "</style>\n",
       "<table border=\"1\" class=\"dataframe\">\n",
       "  <thead>\n",
       "    <tr style=\"text-align: right;\">\n",
       "      <th></th>\n",
       "      <th>Country</th>\n",
       "      <th>Year</th>\n",
       "      <th>Status</th>\n",
       "      <th>Adult Mortality</th>\n",
       "      <th>infant_deaths</th>\n",
       "      <th>Alcohol</th>\n",
       "      <th>percentage_expenditure</th>\n",
       "      <th>Hepatitis B</th>\n",
       "      <th>Measles</th>\n",
       "      <th>BMI</th>\n",
       "      <th>under_five_deaths</th>\n",
       "      <th>Polio</th>\n",
       "      <th>Total_expenditure</th>\n",
       "      <th>Diphtheria</th>\n",
       "      <th>HIV/AIDS</th>\n",
       "      <th>GDP</th>\n",
       "      <th>Population</th>\n",
       "      <th>thinness_1-19_years</th>\n",
       "      <th>thinness_5-9_years</th>\n",
       "      <th>Income_composition_of_resources</th>\n",
       "    </tr>\n",
       "  </thead>\n",
       "  <tbody>\n",
       "    <tr>\n",
       "      <th>0</th>\n",
       "      <td>Afghanistan</td>\n",
       "      <td>2015</td>\n",
       "      <td>0</td>\n",
       "      <td>263.0</td>\n",
       "      <td>62</td>\n",
       "      <td>0.01</td>\n",
       "      <td>71.279624</td>\n",
       "      <td>65.0</td>\n",
       "      <td>0.005439</td>\n",
       "      <td>19.1</td>\n",
       "      <td>83</td>\n",
       "      <td>6.0</td>\n",
       "      <td>8.16</td>\n",
       "      <td>65.0</td>\n",
       "      <td>0.0</td>\n",
       "      <td>584.259210</td>\n",
       "      <td>0.026074</td>\n",
       "      <td>17.2</td>\n",
       "      <td>17.3</td>\n",
       "      <td>0.479</td>\n",
       "    </tr>\n",
       "    <tr>\n",
       "      <th>1</th>\n",
       "      <td>Afghanistan</td>\n",
       "      <td>2014</td>\n",
       "      <td>0</td>\n",
       "      <td>271.0</td>\n",
       "      <td>64</td>\n",
       "      <td>0.01</td>\n",
       "      <td>73.523582</td>\n",
       "      <td>62.0</td>\n",
       "      <td>0.002319</td>\n",
       "      <td>18.6</td>\n",
       "      <td>86</td>\n",
       "      <td>58.0</td>\n",
       "      <td>8.18</td>\n",
       "      <td>62.0</td>\n",
       "      <td>0.0</td>\n",
       "      <td>612.696514</td>\n",
       "      <td>0.000253</td>\n",
       "      <td>17.5</td>\n",
       "      <td>17.5</td>\n",
       "      <td>0.476</td>\n",
       "    </tr>\n",
       "    <tr>\n",
       "      <th>2</th>\n",
       "      <td>Afghanistan</td>\n",
       "      <td>2013</td>\n",
       "      <td>0</td>\n",
       "      <td>268.0</td>\n",
       "      <td>66</td>\n",
       "      <td>0.01</td>\n",
       "      <td>73.219243</td>\n",
       "      <td>64.0</td>\n",
       "      <td>0.002027</td>\n",
       "      <td>18.1</td>\n",
       "      <td>89</td>\n",
       "      <td>62.0</td>\n",
       "      <td>8.13</td>\n",
       "      <td>64.0</td>\n",
       "      <td>0.0</td>\n",
       "      <td>631.744976</td>\n",
       "      <td>0.024525</td>\n",
       "      <td>17.7</td>\n",
       "      <td>17.7</td>\n",
       "      <td>0.470</td>\n",
       "    </tr>\n",
       "    <tr>\n",
       "      <th>3</th>\n",
       "      <td>Afghanistan</td>\n",
       "      <td>2012</td>\n",
       "      <td>0</td>\n",
       "      <td>272.0</td>\n",
       "      <td>69</td>\n",
       "      <td>0.01</td>\n",
       "      <td>78.184215</td>\n",
       "      <td>67.0</td>\n",
       "      <td>0.013135</td>\n",
       "      <td>17.6</td>\n",
       "      <td>93</td>\n",
       "      <td>67.0</td>\n",
       "      <td>8.52</td>\n",
       "      <td>67.0</td>\n",
       "      <td>0.0</td>\n",
       "      <td>669.959000</td>\n",
       "      <td>0.002857</td>\n",
       "      <td>17.9</td>\n",
       "      <td>18.0</td>\n",
       "      <td>0.463</td>\n",
       "    </tr>\n",
       "    <tr>\n",
       "      <th>4</th>\n",
       "      <td>Afghanistan</td>\n",
       "      <td>2011</td>\n",
       "      <td>0</td>\n",
       "      <td>275.0</td>\n",
       "      <td>71</td>\n",
       "      <td>0.01</td>\n",
       "      <td>7.097109</td>\n",
       "      <td>68.0</td>\n",
       "      <td>0.014200</td>\n",
       "      <td>17.2</td>\n",
       "      <td>97</td>\n",
       "      <td>68.0</td>\n",
       "      <td>7.87</td>\n",
       "      <td>68.0</td>\n",
       "      <td>0.0</td>\n",
       "      <td>63.537231</td>\n",
       "      <td>0.002302</td>\n",
       "      <td>18.2</td>\n",
       "      <td>18.2</td>\n",
       "      <td>0.454</td>\n",
       "    </tr>\n",
       "  </tbody>\n",
       "</table>\n",
       "</div>"
      ],
      "text/plain": [
       "       Country  Year  Status  Adult Mortality  infant_deaths  Alcohol  \\\n",
       "0  Afghanistan  2015       0            263.0             62     0.01   \n",
       "1  Afghanistan  2014       0            271.0             64     0.01   \n",
       "2  Afghanistan  2013       0            268.0             66     0.01   \n",
       "3  Afghanistan  2012       0            272.0             69     0.01   \n",
       "4  Afghanistan  2011       0            275.0             71     0.01   \n",
       "\n",
       "   percentage_expenditure  Hepatitis B   Measles   BMI  under_five_deaths   \\\n",
       "0               71.279624         65.0  0.005439  19.1                  83   \n",
       "1               73.523582         62.0  0.002319  18.6                  86   \n",
       "2               73.219243         64.0  0.002027  18.1                  89   \n",
       "3               78.184215         67.0  0.013135  17.6                  93   \n",
       "4                7.097109         68.0  0.014200  17.2                  97   \n",
       "\n",
       "   Polio  Total_expenditure  Diphtheria  HIV/AIDS         GDP  Population  \\\n",
       "0    6.0               8.16        65.0       0.0  584.259210    0.026074   \n",
       "1   58.0               8.18        62.0       0.0  612.696514    0.000253   \n",
       "2   62.0               8.13        64.0       0.0  631.744976    0.024525   \n",
       "3   67.0               8.52        67.0       0.0  669.959000    0.002857   \n",
       "4   68.0               7.87        68.0       0.0   63.537231    0.002302   \n",
       "\n",
       "   thinness_1-19_years  thinness_5-9_years  Income_composition_of_resources  \n",
       "0                 17.2                17.3                            0.479  \n",
       "1                 17.5                17.5                            0.476  \n",
       "2                 17.7                17.7                            0.470  \n",
       "3                 17.9                18.0                            0.463  \n",
       "4                 18.2                18.2                            0.454  "
      ]
     },
     "metadata": {},
     "output_type": "display_data"
    }
   ],
   "source": [
    "# Import sklearn.preprocessing.StandardScaler\n",
    "from sklearn.preprocessing import MinMaxScaler\n",
    "\n",
    "# Initialize a scaler, then apply it to the features\n",
    "scaler = MinMaxScaler() # default=(0, 1)\n",
    "features_log_transformed = pd.DataFrame(data = features)\n",
    "numerical = [ 'HIV/AIDS', 'Population','Measles']\n",
    "\n",
    "features_log_minmax_transform = pd.DataFrame(data = features_log_transformed)\n",
    "features_log_minmax_transform[numerical] = scaler.fit_transform(features_log_transformed[numerical])\n",
    "\n",
    "# Show an example of a record with scaling applied\n",
    "display(features_log_minmax_transform.head(n = 5))"
   ]
  },
  {
   "cell_type": "code",
   "execution_count": 200,
   "metadata": {},
   "outputs": [
    {
     "data": {
      "image/png": "[encoded data removed]",
      "text/plain": [
       "<Figure size 432x288 with 1 Axes>"
      ]
     },
     "metadata": {},
     "output_type": "display_data"
    }
   ],
   "source": [
    "import matplotlib.pyplot as plt\n",
    "plt.scatter(features['Population'],life_exp)\n",
    "plt.ylabel('Life expectancy')\n",
    "plt.xlabel('Population')\n",
    "plt.show()"
   ]
  },
  {
   "cell_type": "code",
   "execution_count": 201,
   "metadata": {},
   "outputs": [],
   "source": [
    "#changing country names to integer numbers\n",
    "features['Country'] = features['Country'].replace(['Afghanistan' , 'Albania' , 'Algeria' , 'Angola' , 'Antigua and Barbuda' , 'Argentina' , 'Armenia' , 'Australia' , 'Austria' , 'Azerbaijan' , 'Bahamas' , 'Bahrain' , 'Bangladesh' , 'Barbados' , 'Belarus' , 'Belgium' , 'Belize' , 'Benin' , 'Bhutan' , 'Bolivia (Plurinational State of)' , 'Bosnia and Herzegovina' , 'Botswana' , 'Brazil' , 'Brunei Darussalam' , 'Bulgaria' , 'Burkina Faso' , 'Burundi' , \"Côte d'Ivoire\" , 'Cabo Verde' , 'Cambodia' , 'Cameroon' , 'Canada' , 'Central African Republic' , 'Chad' , 'Chile' , 'China' , 'Colombia' , 'Comoros' , 'Congo' , 'Costa Rica' , 'Croatia' , 'Cuba' , 'Cyprus' , 'Czechia' , \"Democratic People's Republic of Korea\" , 'Democratic Republic of the Congo' , 'Denmark' , 'Djibouti' , 'Dominican Republic' , 'Ecuador' , 'Egypt' , 'El Salvador' , 'Equatorial Guinea' , 'Eritrea' , 'Estonia' , 'Ethiopia' , 'Fiji' , 'Finland' , 'France' , 'Gabon' , 'Gambia' , 'Georgia' , 'Germany' , 'Ghana' , 'Greece' , 'Grenada' , 'Guatemala' , 'Guinea' , 'Guinea-Bissau' , 'Guyana' , 'Haiti' , 'Honduras' , 'Hungary' , 'Iceland' , 'India' , 'Indonesia' , 'Iran (Islamic Republic of)' , 'Iraq' , 'Ireland' , 'Israel' , 'Italy' , 'Jamaica' , 'Japan' , 'Jordan' , 'Kazakhstan' , 'Kenya' , 'Kiribati' , 'Kuwait' , 'Kyrgyzstan' , \"Lao People's Democratic Republic\" , 'Latvia' , 'Lebanon' , 'Lesotho' , 'Liberia' , 'Libya' , 'Lithuania' , 'Luxembourg' , 'Madagascar' , 'Malawi' , 'Malaysia' , 'Maldives' , 'Mali' , 'Malta' , 'Mauritania' , 'Mauritius' , 'Mexico' , 'Micronesia (Federated States of)' , 'Mongolia' , 'Montenegro' , 'Morocco' , 'Mozambique' , 'Myanmar' , 'Namibia' , 'Nepal' , 'Netherlands' , 'New Zealand' , 'Nicaragua' , 'Niger' , 'Nigeria' , 'Norway' , 'Oman' , 'Pakistan' , 'Panama' , 'Papua New Guinea' , 'Paraguay' , 'Peru' , 'Philippines' , 'Poland' , 'Portugal' , 'Qatar' , 'Republic of Korea' , 'Republic of Moldova' , 'Romania' , 'Russian Federation' , 'Rwanda' , 'Saint Lucia' , 'Saint Vincent and the Grenadines' , 'Samoa' , 'Sao Tome and Principe' , 'Saudi Arabia' , 'Senegal' , 'Serbia' , 'Seychelles' , 'Sierra Leone' , 'Singapore' , 'Slovakia' , 'Slovenia' , 'Solomon Islands' , 'Somalia' , 'South Africa' , 'South Sudan' , 'Spain' , 'Sri Lanka' , 'Sudan' , 'Suriname' , 'Swaziland' , 'Sweden' , 'Switzerland' , 'Syrian Arab Republic' , 'Tajikistan' , 'Thailand' , 'The former Yugoslav republic of Macedonia' , 'Timor-Leste' , 'Togo' , 'Tonga' , 'Trinidad and Tobago' , 'Tunisia' , 'Turkey' , 'Turkmenistan' , 'Uganda' , 'Ukraine' , 'United Arab Emirates' , 'United Kingdom of Great Britain and Northern Ireland' , 'United Republic of Tanzania' , 'United States of America' , 'Uruguay' , 'Uzbekistan' , 'Vanuatu' , 'Venezuela (Bolivarian Republic of)' , 'Viet Nam' , 'Yemen' , 'Zambia' , 'Zimbabwe' , 'Cook Islands' , 'Dominica' , 'Marshall Islands' , 'Monaco' , 'Nauru' , 'Niue' , 'Palau' , 'Saint Kitts and Nevis' , 'San Marino' , 'Tuvalu'], [1 ,2 ,3 ,4 ,5 ,6 ,7 ,8 ,9 ,10 ,11 ,12 ,13 ,14 ,15 ,16 ,17 ,18 ,19 ,20 ,21 ,22 ,23 ,24 ,25 ,26 ,27 ,28 ,29 ,30 ,31 ,32 ,33 ,34 ,35 ,36 ,37 ,38 ,39 ,40 ,41 ,42 ,43 ,44 ,45 ,46 ,47 ,48 ,49 ,50 ,51 ,52 ,53 ,54 ,55 ,56 ,57 ,58 ,59 ,60 ,61 ,62 ,63 ,64 ,65 ,66 ,67 ,68 ,69 ,70 ,71 ,72 ,73 ,74 ,75 ,76 ,77 ,78 ,79 ,80 ,81 ,82 ,83 ,84 ,85 ,86 ,87 ,88 ,89 ,90 ,91 ,92 ,93 ,94 ,95 ,96 ,97 ,98 ,99 ,100 ,101 ,102 ,103 ,104 ,105 ,106 ,107 ,108 ,109 ,110 ,111 ,112 ,113 ,114 ,115 ,116 ,117 ,118 ,119 ,120 ,121 ,122 ,123 ,124 ,125 ,126 ,127 ,128 ,129 ,130 ,131 ,132 ,133 ,134 ,135 ,136 ,137 ,138 ,139 ,140 ,141 ,142 ,143 ,144 ,145 ,146 ,147 ,148 ,149 ,150 ,151 ,152 ,153 ,154 ,155 ,156 ,157 ,158 ,159 ,160 ,161 ,162 ,163 ,164 ,165 ,166 ,167 ,168 ,169 ,170 ,171 ,172 ,173 ,174 ,175 ,176 ,177 ,178 ,179 ,180 ,181 ,182 ,183 ,184 ,185 ,186 ,187 ,188 ,189 ,190 ,191 ,192 ,193])"
   ]
  },
  {
   "cell_type": "markdown",
   "metadata": {},
   "source": [
    "## After One Hot Encoding"
   ]
  },
  {
   "cell_type": "code",
   "execution_count": 202,
   "metadata": {},
   "outputs": [
    {
     "name": "stdout",
     "output_type": "stream",
     "text": [
      "20 total features after one-hot encoding.\n"
     ]
    },
    {
     "data": {
      "text/html": [
       "<div>\n",
       "<style scoped>\n",
       "    .dataframe tbody tr th:only-of-type {\n",
       "        vertical-align: middle;\n",
       "    }\n",
       "\n",
       "    .dataframe tbody tr th {\n",
       "        vertical-align: top;\n",
       "    }\n",
       "\n",
       "    .dataframe thead th {\n",
       "        text-align: right;\n",
       "    }\n",
       "</style>\n",
       "<table border=\"1\" class=\"dataframe\">\n",
       "  <thead>\n",
       "    <tr style=\"text-align: right;\">\n",
       "      <th></th>\n",
       "      <th>Country</th>\n",
       "      <th>Year</th>\n",
       "      <th>Status</th>\n",
       "      <th>Adult Mortality</th>\n",
       "      <th>infant_deaths</th>\n",
       "      <th>Alcohol</th>\n",
       "      <th>percentage_expenditure</th>\n",
       "      <th>Hepatitis B</th>\n",
       "      <th>Measles</th>\n",
       "      <th>BMI</th>\n",
       "      <th>under_five_deaths</th>\n",
       "      <th>Polio</th>\n",
       "      <th>Total_expenditure</th>\n",
       "      <th>Diphtheria</th>\n",
       "      <th>HIV/AIDS</th>\n",
       "      <th>GDP</th>\n",
       "      <th>Population</th>\n",
       "      <th>thinness_1-19_years</th>\n",
       "      <th>thinness_5-9_years</th>\n",
       "      <th>Income_composition_of_resources</th>\n",
       "    </tr>\n",
       "  </thead>\n",
       "  <tbody>\n",
       "    <tr>\n",
       "      <th>0</th>\n",
       "      <td>1</td>\n",
       "      <td>2015</td>\n",
       "      <td>0</td>\n",
       "      <td>263.0</td>\n",
       "      <td>62</td>\n",
       "      <td>0.01</td>\n",
       "      <td>71.279624</td>\n",
       "      <td>65.0</td>\n",
       "      <td>0.005439</td>\n",
       "      <td>19.1</td>\n",
       "      <td>83</td>\n",
       "      <td>6.0</td>\n",
       "      <td>8.16</td>\n",
       "      <td>65.0</td>\n",
       "      <td>0.0</td>\n",
       "      <td>584.259210</td>\n",
       "      <td>0.026074</td>\n",
       "      <td>17.2</td>\n",
       "      <td>17.3</td>\n",
       "      <td>0.479</td>\n",
       "    </tr>\n",
       "    <tr>\n",
       "      <th>1</th>\n",
       "      <td>1</td>\n",
       "      <td>2014</td>\n",
       "      <td>0</td>\n",
       "      <td>271.0</td>\n",
       "      <td>64</td>\n",
       "      <td>0.01</td>\n",
       "      <td>73.523582</td>\n",
       "      <td>62.0</td>\n",
       "      <td>0.002319</td>\n",
       "      <td>18.6</td>\n",
       "      <td>86</td>\n",
       "      <td>58.0</td>\n",
       "      <td>8.18</td>\n",
       "      <td>62.0</td>\n",
       "      <td>0.0</td>\n",
       "      <td>612.696514</td>\n",
       "      <td>0.000253</td>\n",
       "      <td>17.5</td>\n",
       "      <td>17.5</td>\n",
       "      <td>0.476</td>\n",
       "    </tr>\n",
       "    <tr>\n",
       "      <th>2</th>\n",
       "      <td>1</td>\n",
       "      <td>2013</td>\n",
       "      <td>0</td>\n",
       "      <td>268.0</td>\n",
       "      <td>66</td>\n",
       "      <td>0.01</td>\n",
       "      <td>73.219243</td>\n",
       "      <td>64.0</td>\n",
       "      <td>0.002027</td>\n",
       "      <td>18.1</td>\n",
       "      <td>89</td>\n",
       "      <td>62.0</td>\n",
       "      <td>8.13</td>\n",
       "      <td>64.0</td>\n",
       "      <td>0.0</td>\n",
       "      <td>631.744976</td>\n",
       "      <td>0.024525</td>\n",
       "      <td>17.7</td>\n",
       "      <td>17.7</td>\n",
       "      <td>0.470</td>\n",
       "    </tr>\n",
       "    <tr>\n",
       "      <th>3</th>\n",
       "      <td>1</td>\n",
       "      <td>2012</td>\n",
       "      <td>0</td>\n",
       "      <td>272.0</td>\n",
       "      <td>69</td>\n",
       "      <td>0.01</td>\n",
       "      <td>78.184215</td>\n",
       "      <td>67.0</td>\n",
       "      <td>0.013135</td>\n",
       "      <td>17.6</td>\n",
       "      <td>93</td>\n",
       "      <td>67.0</td>\n",
       "      <td>8.52</td>\n",
       "      <td>67.0</td>\n",
       "      <td>0.0</td>\n",
       "      <td>669.959000</td>\n",
       "      <td>0.002857</td>\n",
       "      <td>17.9</td>\n",
       "      <td>18.0</td>\n",
       "      <td>0.463</td>\n",
       "    </tr>\n",
       "    <tr>\n",
       "      <th>4</th>\n",
       "      <td>1</td>\n",
       "      <td>2011</td>\n",
       "      <td>0</td>\n",
       "      <td>275.0</td>\n",
       "      <td>71</td>\n",
       "      <td>0.01</td>\n",
       "      <td>7.097109</td>\n",
       "      <td>68.0</td>\n",
       "      <td>0.014200</td>\n",
       "      <td>17.2</td>\n",
       "      <td>97</td>\n",
       "      <td>68.0</td>\n",
       "      <td>7.87</td>\n",
       "      <td>68.0</td>\n",
       "      <td>0.0</td>\n",
       "      <td>63.537231</td>\n",
       "      <td>0.002302</td>\n",
       "      <td>18.2</td>\n",
       "      <td>18.2</td>\n",
       "      <td>0.454</td>\n",
       "    </tr>\n",
       "  </tbody>\n",
       "</table>\n",
       "</div>"
      ],
      "text/plain": [
       "   Country  Year  Status  Adult Mortality  infant_deaths  Alcohol  \\\n",
       "0        1  2015       0            263.0             62     0.01   \n",
       "1        1  2014       0            271.0             64     0.01   \n",
       "2        1  2013       0            268.0             66     0.01   \n",
       "3        1  2012       0            272.0             69     0.01   \n",
       "4        1  2011       0            275.0             71     0.01   \n",
       "\n",
       "   percentage_expenditure  Hepatitis B   Measles   BMI  under_five_deaths   \\\n",
       "0               71.279624         65.0  0.005439  19.1                  83   \n",
       "1               73.523582         62.0  0.002319  18.6                  86   \n",
       "2               73.219243         64.0  0.002027  18.1                  89   \n",
       "3               78.184215         67.0  0.013135  17.6                  93   \n",
       "4                7.097109         68.0  0.014200  17.2                  97   \n",
       "\n",
       "   Polio  Total_expenditure  Diphtheria  HIV/AIDS         GDP  Population  \\\n",
       "0    6.0               8.16        65.0       0.0  584.259210    0.026074   \n",
       "1   58.0               8.18        62.0       0.0  612.696514    0.000253   \n",
       "2   62.0               8.13        64.0       0.0  631.744976    0.024525   \n",
       "3   67.0               8.52        67.0       0.0  669.959000    0.002857   \n",
       "4   68.0               7.87        68.0       0.0   63.537231    0.002302   \n",
       "\n",
       "   thinness_1-19_years  thinness_5-9_years  Income_composition_of_resources  \n",
       "0                 17.2                17.3                            0.479  \n",
       "1                 17.5                17.5                            0.476  \n",
       "2                 17.7                17.7                            0.470  \n",
       "3                 17.9                18.0                            0.463  \n",
       "4                 18.2                18.2                            0.454  "
      ]
     },
     "execution_count": 202,
     "metadata": {},
     "output_type": "execute_result"
    }
   ],
   "source": [
    "features_final = pd.get_dummies(features_log_minmax_transform)\n",
    "\n",
    "\n",
    "# Print the number of features after one-hot encoding\n",
    "encoded = list(features_final.columns)\n",
    "print(\"{} total features after one-hot encoding.\".format(len(encoded)))\n",
    "features.head()"
   ]
  },
  {
   "cell_type": "code",
   "execution_count": 203,
   "metadata": {},
   "outputs": [
    {
     "data": {
      "text/plain": [
       "0"
      ]
     },
     "execution_count": 203,
     "metadata": {},
     "output_type": "execute_result"
    }
   ],
   "source": [
    "# TO check if our target variable has null or nan values.\n",
    "life_exp.isnull().sum()"
   ]
  },
  {
   "cell_type": "markdown",
   "metadata": {},
   "source": [
    "Above result which is 0 shows that our target variable has no null or nan values"
   ]
  },
  {
   "cell_type": "code",
   "execution_count": 204,
   "metadata": {},
   "outputs": [
    {
     "name": "stdout",
     "output_type": "stream",
     "text": [
      "Statistics for Life Expectancy dataset:\n",
      "\n",
      "Minimum number of years: 36.3\n",
      "Maximum number of years: 89.0\n",
      "Mean number of years: 69.22493169398906\n",
      "Median number of years: 72.0\n",
      "Standard deviation of number of years: 9.506021881077226\n"
     ]
    }
   ],
   "source": [
    "# TODO: Minimum life expectancy of the data\n",
    "minimum_age = np.min(life_exp)\n",
    "\n",
    "# TODO: Maximum life expectancy of the data\n",
    "maximum_age = np.max(life_exp)\n",
    "\n",
    "# TODO: Mean life expectancy of the data\n",
    "mean_age = np.mean(life_exp)\n",
    "\n",
    "# TODO: Median life expectancy of the data\n",
    "median_age = np.median(life_exp)\n",
    "\n",
    "# TODO: Standard deviation of life expectancy of the data\n",
    "std_age = np.std(life_exp)\n",
    "\n",
    "# Show the calculated statistics\n",
    "print(\"Statistics for Life Expectancy dataset:\\n\")\n",
    "print(\"Minimum number of years: {}\".format(minimum_age)) \n",
    "print(\"Maximum number of years: {}\".format(maximum_age))\n",
    "print(\"Mean number of years: {}\".format(mean_age))\n",
    "print(\"Median number of years: {}\".format(median_age))\n",
    "print(\"Standard deviation of number of years: {}\".format(std_age))"
   ]
  },
  {
   "cell_type": "markdown",
   "metadata": {},
   "source": [
    "**Observation:** Above resuls shows that our target variable has 36.3 as the minimum life expectancy, and maximum of 89. Mean number years is 69.24 and median number is 72. It has the standard deviation of 9.5060."
   ]
  },
  {
   "cell_type": "markdown",
   "metadata": {},
   "source": [
    "## IMPLEMENTATION OF THE COEFFICIENT OF DETERMINATION :"
   ]
  },
  {
   "cell_type": "code",
   "execution_count": 205,
   "metadata": {},
   "outputs": [],
   "source": [
    "# Import 'r2_score'\n",
    "from sklearn.metrics import r2_score\n",
    "def performance_metric(y_true, y_predict):\n",
    "    \"\"\" Calculates and returns the performance score between \n",
    "        true and predicted values based on the metric chosen. \"\"\"\n",
    "    \n",
    "    # TODO: Calculate the performance score between 'y_true' and 'y_predict'\n",
    "    score = r2_score(y_true,y_predict)\n",
    "    \n",
    "    # Return the score\n",
    "    return score"
   ]
  },
  {
   "cell_type": "markdown",
   "metadata": {},
   "source": [
    "## SHUFFLING AND SPLITTING THE DATA"
   ]
  },
  {
   "cell_type": "code",
   "execution_count": 206,
   "metadata": {},
   "outputs": [
    {
     "name": "stdout",
     "output_type": "stream",
     "text": [
      "Training and testing split was successful.\n",
      "Training set has 2350 samples.\n",
      "Testing set has 588 samples.\n"
     ]
    }
   ],
   "source": [
    "# Import 'train_test_split'\n",
    "from sklearn.cross_validation import train_test_split\n",
    "# Shuffle and split the data into training and testing subsets\n",
    "X_train, X_test, y_train, y_test = train_test_split(features,life_exp,test_size=0.2,train_size=0.8,random_state=10)\n",
    "\n",
    "# Successful shuffle and split of the data\n",
    "print(\"Training and testing split was successful.\")\n",
    "# Show the results of the split\n",
    "print(\"Training set has {} samples.\".format(X_train.shape[0]))\n",
    "print(\"Testing set has {} samples.\".format(X_test.shape[0]))"
   ]
  },
  {
   "cell_type": "markdown",
   "metadata": {},
   "source": [
    "## BENCHMARK MODEL\n",
    "\n",
    "### DEFINITION :-\n",
    "\n",
    "A Bench Mark Model can be defined as a standard model that already shows a better performance on a given data.The factors on which our results or the solution is tested, are mostly going to be the amount of training/testing data, and then we compare your solution with that of the benchmarked solution obviously based on a performance metric(here r2_score).\n",
    "\n",
    "The main theme here is to understand which model works delivers the best solution than their existing solution.So, it can be achieved by sheer analysis, implementing standard algorithms and observance and coming to the conclusion that the model shows good solutions or results than the benchmark model's solution.\n",
    "\n",
    "Since, the problem is a 'Regression' task , I'm implementing a 'Linear Regression' model as my BenchMark Model."
   ]
  },
  {
   "cell_type": "code",
   "execution_count": 207,
   "metadata": {},
   "outputs": [],
   "source": [
    "# importing Linear Regression model library from sklearn# importi \n",
    "from sklearn.linear_model import LinearRegression\n",
    "\n",
    "# Create a linear regression object\n",
    "reg = LinearRegression()\n",
    "\n",
    "# Fitting the model using the training sets\n",
    "reg.fit(X_train, y_train)\n",
    "\n",
    "# Making predictions using the testing set\n",
    "y_pred = reg.predict(X_test)"
   ]
  },
  {
   "cell_type": "code",
   "execution_count": 208,
   "metadata": {},
   "outputs": [
    {
     "name": "stdout",
     "output_type": "stream",
     "text": [
      "Model has a coefficient of determination, R^2, of 0.807.\n"
     ]
    }
   ],
   "source": [
    "# Calculating the performance of the model \n",
    "score  = performance_metric(y_test,y_pred)\n",
    "print(\"Model has a coefficient of determination, R^2, of {:.3f}.\".format(score))"
   ]
  },
  {
   "cell_type": "markdown",
   "metadata": {},
   "source": [
    "**Explanation** :-\n",
    "\n",
    "   It is evident that the Linear Regression Model (BenchMark Model) shows a striking performance of 0.807 which means that the target variable('Life_expectancy') caputerd 80.7% of variance."
   ]
  },
  {
   "cell_type": "markdown",
   "metadata": {},
   "source": [
    "## IMPLEMENTATION\n",
    "\n",
    "In the further section of the project, I'll intuitively select the best out of the three models that I considered for the current problem by using the performance metric(r2_score), based on the results generated, I'll decide best of the three models, which is optimal for the given problem.\n",
    "\n",
    "### INITIAL MODEL EVALUATION :-\n",
    "In this section, I'll clearly show the coding implementation of the three supervised learning models\n",
    "\n",
    "Import the necessary libraries and intialize the models and store them in respective variables.\n",
    "And finally comparing the r2_scores of the three learning models and decide which one is the best.\n",
    "\n",
    "#### 1. Decision Tree Regressor\n",
    "\n"
   ]
  },
  {
   "cell_type": "code",
   "execution_count": 209,
   "metadata": {},
   "outputs": [
    {
     "name": "stdout",
     "output_type": "stream",
     "text": [
      "Model has a coefficient of determination, R^2, of 0.91.\n"
     ]
    }
   ],
   "source": [
    "# import necessary library\n",
    "from sklearn.tree import DecisionTreeRegressor\n",
    "\n",
    "# Create a Decision Tree Regressor Object\n",
    "dec_reg = DecisionTreeRegressor(random_state=42)\n",
    "\n",
    "# Fitting the model using training sets\n",
    "dec_reg.fit(X_train,y_train)\n",
    "\n",
    "# Making predictions using the testing set\n",
    "dec_pred =  dec_reg.predict(X_test)\n",
    "\n",
    "# Calculating the performance of the decision tree regressor model\n",
    "dec_score = performance_metric(y_test,dec_pred)\n",
    "print(\"Model has a coefficient of determination, R^2, of {:.2f}.\".format(dec_score))"
   ]
  },
  {
   "cell_type": "markdown",
   "metadata": {},
   "source": [
    "**Observation:** This model has an a coefficient of determination, R^2 , of 0.91 and considered as good fit model."
   ]
  },
  {
   "cell_type": "markdown",
   "metadata": {},
   "source": [
    "#### 2. Support Vector Regressor"
   ]
  },
  {
   "cell_type": "code",
   "execution_count": 210,
   "metadata": {},
   "outputs": [
    {
     "name": "stdout",
     "output_type": "stream",
     "text": [
      "Model has a coefficient of determination, R^2, of -0.08.\n"
     ]
    }
   ],
   "source": [
    "# import necessary library\n",
    "from sklearn.svm import SVR\n",
    "\n",
    "# Create a Support Vector Regressor Object\n",
    "svr_reg = SVR()\n",
    "\n",
    "# Fitting the model using training sets\n",
    "svr_reg.fit(X_train,y_train)\n",
    "\n",
    "# Making predictions using the testing set\n",
    "svr_pred =  svr_reg.predict(X_test)\n",
    "\n",
    "# Calculating the performance of the decision tree regressor model\n",
    "svr_score = performance_metric(y_test,svr_pred)\n",
    "print(\"Model has a coefficient of determination, R^2, of {:.2f}.\".format(svr_score))"
   ]
  },
  {
   "cell_type": "markdown",
   "metadata": {},
   "source": [
    "#### 3. Random Forest Regressor"
   ]
  },
  {
   "cell_type": "code",
   "execution_count": 211,
   "metadata": {},
   "outputs": [
    {
     "name": "stdout",
     "output_type": "stream",
     "text": [
      "Model has a coefficient of determination, R^2, of 0.96.\n"
     ]
    }
   ],
   "source": [
    "# import necessary library\n",
    "from sklearn.ensemble import RandomForestRegressor\n",
    "\n",
    "# Create a Random Forest Regressor Object\n",
    "rfr_reg = RandomForestRegressor(random_state=42)\n",
    "\n",
    "# Fitting the model using training sets\n",
    "rfr_reg.fit(X_train,y_train)\n",
    "\n",
    "# Making predictions using the testing set\n",
    "rfr_pred =  rfr_reg.predict(X_test)\n",
    "\n",
    "# Calculating the performance of the decision tree regressor model\n",
    "rfr_score = performance_metric(y_test,rfr_pred)\n",
    "#plt.scatter(y_test,y_pred)\n",
    "#plt.show()\n",
    "print(\"Model has a coefficient of determination, R^2, of {:.2f}.\".format(rfr_score))"
   ]
  },
  {
   "cell_type": "markdown",
   "metadata": {},
   "source": [
    "**Observation:** Here using Random forest regressor I got R^2 score of 0.96 , which is an excellent score and considered this model as good fit. Hence comparing all the three models I've taken above( linear regressor, SVM and Random Forest regressor), I'll go with Random forest regressor as it fits the model best and will give good results. "
   ]
  },
  {
   "cell_type": "code",
   "execution_count": 212,
   "metadata": {},
   "outputs": [],
   "source": [
    "# importing necessary libraries\n",
    "from sklearn.ensemble import RandomForestRegressor\n",
    "from sklearn.metrics import make_scorer\n",
    "from sklearn.grid_search import GridSearchCV\n",
    "\n",
    "\n",
    "def fit_model(X_train,y_train):\n",
    "    # Initialize the Regressor\n",
    "    lgr_grid = RandomForestRegressor(random_state=42)\n",
    "    \n",
    "    # Create the parameters list to tune.\n",
    "    params = {\"n_estimators\"      : [105,205,305],\n",
    "              \"max_features\"      : [\"auto\", \"sqrt\", \"log2\"],\n",
    "              \"min_samples_split\" : [2,4,8],\n",
    "              \"bootstrap\": [True, False]}\n",
    "    \n",
    "    # Make an r2_scorer scoring object using make_scorer()\n",
    "    scorer = make_scorer(performance_metric)\n",
    "\n",
    "    # Perform grid search on the classifier using 'scorer' as the scoring method using GridSearchCV()\n",
    "    grid_obj = GridSearchCV(lgr_grid,params,scoring=scorer)\n",
    "\n",
    "    # Fit the grid search object to the training data and find the optimal parameters using fit()\n",
    "    grid_fit = grid_obj.fit(X_train,y_train)\n",
    "\n",
    "    # calculate the estimator\n",
    "    best_clf = grid_fit.best_estimator_\n",
    "\n",
    "    # Return the optimal model after fitting the data\n",
    "    best_predictions = best_clf.predict(X_test)\n",
    "\n",
    "    return grid_fit.best_estimator_\n"
   ]
  },
  {
   "cell_type": "code",
   "execution_count": 213,
   "metadata": {},
   "outputs": [
    {
     "name": "stdout",
     "output_type": "stream",
     "text": [
      "regression score of 0.967\n"
     ]
    }
   ],
   "source": [
    "\n",
    "rf_reg = fit_model(X_train, y_train)\n",
    "rf_pred = rf_reg.predict(X_test)\n",
    "print(\"regression score of {:.3f}\".format(performance_metric(y_test,rf_pred)))\n",
    "# Produce the value for 'max_depth'\n",
    "#print(\"Parameter 'max_depth' is {} for the optimal model.\".format(reg.get_params()['max_depth']"
   ]
  },
  {
   "cell_type": "markdown",
   "metadata": {},
   "source": [
    "\n",
    "### Observation :-\n",
    "\n",
    "It is quite obvious that the 'Random Forest Regressor' Model showed a best improvement upon Model Tuning using the GridSearchCV technique.\n",
    "\n",
    "We can observe the trend of the improvement by the values tabulated as follows :-\n",
    "\n",
    "| Metric\t| Random Forest Regressor(Before Tuning)\t| Random Forest Regressor Model(After Tuning)|\n",
    "|-----------|-------------------------------------------|--------------------------------------------|\n",
    "|r2 score\t|0.96\t|0.967   |\n",
    "\n",
    "It is quite evident from the table that the Random Forest Regressor showed a good improvement upon optimization by the target variable accounting for about 76.1% of the variance.\n",
    "\n",
    "### FINAL MODEL EVALUATION\n",
    "In this part of the project I'll demonstrate the comparison of the performances between the BenchMark Model('Linear Regressor') and the Opmital Model('Random Tree Regressor') based on their performance metrics(r2_score) in a tabular form.\n",
    "\n",
    "#### Results\n",
    "|Metric\t|Linear Regressor Model(BenchMark Model)|\tRandom Forest Regressor Model(Optimal Model)|\n",
    "|-------|---------------------------------------|-----------------------------------------------|\n",
    "|r2 score|\t0.807|\t0.967|\n",
    "\n",
    "### Observation :-\n",
    "Although the performances of the BenchMark Model and the Optimal Model thus considered are quite figurative and are literally showing nearly similar performances, it is quite evident that the Random Forest Regressor Model(Optimal Model) shows an awesome performance than the Linear Regressor Model(BenchMark Model).\n",
    "\n",
    "And it is quite obvious that Random Forest Regressor Model i.e., Optimal Model shows a better performance on the input dataset.\n",
    "\n",
    "### MODEL VALIDATION\n",
    "In this part of the project, I'll demonstrate the performance of the Best Model for the given regression task i.e., The Optimal Model aganist unseen data."
   ]
  },
  {
   "cell_type": "code",
   "execution_count": 216,
   "metadata": {},
   "outputs": [
    {
     "name": "stdout",
     "output_type": "stream",
     "text": [
      "number of years:\n"
     ]
    },
    {
     "data": {
      "text/plain": [
       "array([63.9102439])"
      ]
     },
     "execution_count": 216,
     "metadata": {},
     "output_type": "execute_result"
    }
   ],
   "source": [
    "b_score=[[1,2015,0,0.362881,62,0.01,71.279624,65.0,0.005439,0.209733,83,6.0,8.16,65.0,0.0,584.259210,0.026074,17.2,17.3,0.479]]\n",
    "print(\"number of years:\")\n",
    "rf_reg.predict(b_score)"
   ]
  },
  {
   "cell_type": "markdown",
   "metadata": {},
   "source": [
    "**Result:** By looking at above prediction of life expectancy of a country( 1 means Afganisthan) , it has 63.91 years of life expectancy in 2015(actual is 65). And it was predicted using the model, Random forest regression.\n",
    "\n",
    "Below cell will run for some examples "
   ]
  },
  {
   "cell_type": "markdown",
   "metadata": {},
   "source": [
    "### Task - Predicting Life expectancy of some countries\n",
    "\n",
    "Here I'll take some countries as examples to predict the life expectancy by taking all the necessary data into account. I wanna take 3 countries data to predict life expectancy.\n",
    " Below cell will produce data of a 3 countries, probably U.S.A, Japan and India. We will store it in grid or matrix."
   ]
  },
  {
   "cell_type": "code",
   "execution_count": 217,
   "metadata": {},
   "outputs": [
    {
     "data": {
      "text/html": [
       "<div>\n",
       "<style scoped>\n",
       "    .dataframe tbody tr th:only-of-type {\n",
       "        vertical-align: middle;\n",
       "    }\n",
       "\n",
       "    .dataframe tbody tr th {\n",
       "        vertical-align: top;\n",
       "    }\n",
       "\n",
       "    .dataframe thead th {\n",
       "        text-align: right;\n",
       "    }\n",
       "</style>\n",
       "<table border=\"1\" class=\"dataframe\">\n",
       "  <thead>\n",
       "    <tr style=\"text-align: right;\">\n",
       "      <th></th>\n",
       "      <th>Country</th>\n",
       "      <th>Year</th>\n",
       "      <th>Status</th>\n",
       "      <th>Adult Mortality</th>\n",
       "      <th>infant_deaths</th>\n",
       "      <th>Alcohol</th>\n",
       "      <th>percentage_expenditure</th>\n",
       "      <th>Hepatitis B</th>\n",
       "      <th>Measles</th>\n",
       "      <th>BMI</th>\n",
       "      <th>under_five_deaths</th>\n",
       "      <th>Polio</th>\n",
       "      <th>Total_expenditure</th>\n",
       "      <th>Diphtheria</th>\n",
       "      <th>HIV/AIDS</th>\n",
       "      <th>GDP</th>\n",
       "      <th>Population</th>\n",
       "      <th>thinness_1-19_years</th>\n",
       "      <th>thinness_5-9_years</th>\n",
       "      <th>Income_composition_of_resources</th>\n",
       "    </tr>\n",
       "  </thead>\n",
       "  <tbody>\n",
       "    <tr>\n",
       "      <th>2794</th>\n",
       "      <td>175</td>\n",
       "      <td>2015</td>\n",
       "      <td>1</td>\n",
       "      <td>13.0</td>\n",
       "      <td>23</td>\n",
       "      <td>4.602861</td>\n",
       "      <td>0.0</td>\n",
       "      <td>92.000000</td>\n",
       "      <td>0.000886</td>\n",
       "      <td>69.6</td>\n",
       "      <td>26</td>\n",
       "      <td>93.0</td>\n",
       "      <td>5.93819</td>\n",
       "      <td>95.0</td>\n",
       "      <td>0.00000</td>\n",
       "      <td>7483.158469</td>\n",
       "      <td>0.009857</td>\n",
       "      <td>0.8</td>\n",
       "      <td>0.6</td>\n",
       "      <td>0.627551</td>\n",
       "    </tr>\n",
       "    <tr>\n",
       "      <th>1314</th>\n",
       "      <td>83</td>\n",
       "      <td>2015</td>\n",
       "      <td>1</td>\n",
       "      <td>55.0</td>\n",
       "      <td>2</td>\n",
       "      <td>4.602861</td>\n",
       "      <td>0.0</td>\n",
       "      <td>80.940461</td>\n",
       "      <td>0.000165</td>\n",
       "      <td>29.0</td>\n",
       "      <td>3</td>\n",
       "      <td>99.0</td>\n",
       "      <td>5.93819</td>\n",
       "      <td>96.0</td>\n",
       "      <td>0.00000</td>\n",
       "      <td>34474.137360</td>\n",
       "      <td>0.000098</td>\n",
       "      <td>2.1</td>\n",
       "      <td>1.8</td>\n",
       "      <td>0.902000</td>\n",
       "    </tr>\n",
       "    <tr>\n",
       "      <th>1186</th>\n",
       "      <td>75</td>\n",
       "      <td>2015</td>\n",
       "      <td>0</td>\n",
       "      <td>181.0</td>\n",
       "      <td>910</td>\n",
       "      <td>4.602861</td>\n",
       "      <td>0.0</td>\n",
       "      <td>87.000000</td>\n",
       "      <td>0.425986</td>\n",
       "      <td>18.7</td>\n",
       "      <td>1100</td>\n",
       "      <td>86.0</td>\n",
       "      <td>5.93819</td>\n",
       "      <td>87.0</td>\n",
       "      <td>0.00198</td>\n",
       "      <td>1613.188780</td>\n",
       "      <td>0.001078</td>\n",
       "      <td>26.7</td>\n",
       "      <td>27.3</td>\n",
       "      <td>0.615000</td>\n",
       "    </tr>\n",
       "  </tbody>\n",
       "</table>\n",
       "</div>"
      ],
      "text/plain": [
       "      Country  Year  Status  Adult Mortality  infant_deaths   Alcohol  \\\n",
       "2794      175  2015       1             13.0             23  4.602861   \n",
       "1314       83  2015       1             55.0              2  4.602861   \n",
       "1186       75  2015       0            181.0            910  4.602861   \n",
       "\n",
       "      percentage_expenditure  Hepatitis B   Measles   BMI  under_five_deaths   \\\n",
       "2794                     0.0    92.000000  0.000886  69.6                  26   \n",
       "1314                     0.0    80.940461  0.000165  29.0                   3   \n",
       "1186                     0.0    87.000000  0.425986  18.7                1100   \n",
       "\n",
       "      Polio  Total_expenditure  Diphtheria  HIV/AIDS           GDP  \\\n",
       "2794   93.0            5.93819        95.0   0.00000   7483.158469   \n",
       "1314   99.0            5.93819        96.0   0.00000  34474.137360   \n",
       "1186   86.0            5.93819        87.0   0.00198   1613.188780   \n",
       "\n",
       "      Population  thinness_1-19_years  thinness_5-9_years  \\\n",
       "2794    0.009857                  0.8                 0.6   \n",
       "1314    0.000098                  2.1                 1.8   \n",
       "1186    0.001078                 26.7                27.3   \n",
       "\n",
       "      Income_composition_of_resources  \n",
       "2794                         0.627551  \n",
       "1314                         0.902000  \n",
       "1186                         0.615000  "
      ]
     },
     "execution_count": 217,
     "metadata": {},
     "output_type": "execute_result"
    }
   ],
   "source": [
    "features.loc[[2794,1314,1186]]"
   ]
  },
  {
   "cell_type": "code",
   "execution_count": 218,
   "metadata": {},
   "outputs": [
    {
     "name": "stdout",
     "output_type": "stream",
     "text": [
      "Predicted life expectancy of country 1: 77.93\n",
      "Predicted life expectancy of country 2: 83.71\n",
      "Predicted life expectancy of country 3: 68.91\n"
     ]
    }
   ],
   "source": [
    "# Following is the code for predicting the life expectancy by considering the Random Forest Regressor Model i.e.,The Optimal Model \n",
    "#k_scores = reg.feature_importances_\n",
    "# Producing a matrix for the the data\n",
    "my_data = [[175,2015,1,0.016620,23,4.602861,0.0,92.000000,0.000886,0.794902,26,93.0,5.93819,95.0,0.00000,7483.158469,0.009857,0.8,0.6,0.627551],\n",
    "                [83,2015,1,0.074792,2,4.602861,0.0,80.940461,0.000165,0.324450,3,99.0,5.93819,96.0,0.00000,34474.137360,0.000098,2.1,1.8,0.902000],\n",
    "                [75,2015,0,0.249307,910,4.602861,0.0,87.000000,0.425986,0.205098,1100,86.0,5.93819,87.0,0.00198,1613.188780,0.001078,26.7,27.3,0.615000]]\n",
    "# Displaying the results\n",
    "#print(k_scores)\n",
    "#print student_data\n",
    "#print reg.predict(student_data)\n",
    "#plt.plot(reg.predict(student_data),student_data)\n",
    "#plt.show()\n",
    "for i, score in enumerate(rf_reg.predict(my_data)):\n",
    "    print(\"Predicted life expectancy of country {}: {:,.2f}\".format(i+1, score))"
   ]
  },
  {
   "cell_type": "markdown",
   "metadata": {},
   "source": [
    "### Observation:\n",
    "\n",
    "All features have a major weight in our case. But taking some features into account I'll explain how the predicted number will relate to this. From the above obtained results , I conclude that:\n",
    "- U.S.A has life expactancy of 77.93 as predicted. The main factors which involved in the number of years obtained are its 'Status' is 'Developed', a country which is termed as developed, known to have rich in resources and malnutrition . Population and Income compositionof resources are helps in increase of life expectancy. BMI also indicates that it's the  cause of obesity and leads to decrease in life expectancy . It looks like U.S have high BMI rate compared to other two countris. It has more number of deaths due to Hepatitis B and Polio.\n",
    "- Japan, the predicted life expectancy is 83.71 . This country's status is developed and has less number of deaths due to diseases like Hepatitis B, Measles an HIV/AIDs. It has less number of infant deaths. \n",
    "- India, on the other hand, has life expectancy 68.91 , due to having more number of infant deaths,deaths due to polio and  adult mortality rate is also high. GDP is low as compared to the developed countries like U.S and Japan. Population is also key factor here to consider as population increases resources will get decreased and expenditure spent also dectresed due to mass."
   ]
  }
 ],
 "metadata": {
  "kernelspec": {
   "display_name": "Python 3",
   "language": "python",
   "name": "python3"
  },
  "language_info": {
   "codemirror_mode": {
    "name": "ipython",
    "version": 3
   },
   "file_extension": ".py",
   "mimetype": "text/x-python",
   "name": "python",
   "nbconvert_exporter": "python",
   "pygments_lexer": "ipython3",
   "version": "3.6.5"
  }
 },
 "nbformat": 4,
 "nbformat_minor": 2
}
